{
 "cells": [
  {
   "cell_type": "code",
   "execution_count": 6,
   "id": "76138e42",
   "metadata": {},
   "outputs": [
    {
     "name": "stdout",
     "output_type": "stream",
     "text": [
      "Most likely sequence of states: [0, 0, 1]\n",
      "Maximum probability: 0.008960000000000001\n"
     ]
    }
   ],
   "source": [
    "import numpy as np\n",
    "\n",
    "def viterbi_algorithm(S, Pi, E, P, Y):\n",
    "    K = len(S) # Length of state space will give K\n",
    "    T = len(Y) # Length of observation sequence will give T\n",
    "    \n",
    "    # Initialize matrices for Viterbi probabilities and paths\n",
    "    viterbi_prob = np.zeros((K, T))\n",
    "    viterbi_path = np.zeros((K, T))\n",
    "    \n",
    "    # Part I: Initialization\n",
    "    for i in range(K):\n",
    "        viterbi_prob[i][0] = Pi[i] * E[i][Y[0]]\n",
    "        viterbi_path[i][0] = 0\n",
    "    \n",
    "    # Part II: Compute Viterbi probabilities and path\n",
    "    for j in range(1, T):\n",
    "        for i in range(K):\n",
    "            viterbi_prob[i, j] = max(E[i][Y[j]] * P[k][i] * viterbi_prob[k, j-1] for k in range(K))\n",
    "            viterbi_path[i, j] = np.argmax([E[i][Y[j]] * P[k][i] * viterbi_prob[k, j-1] for k in range(K)])\n",
    "    \n",
    "    # Part III: Re-track the most likely path\n",
    "    x = []\n",
    "    x_t = np.argmax(viterbi_prob[:, T-1])\n",
    "    x.append(x_t)\n",
    "    for j in range(T-1, 0, -1):\n",
    "        x_prev = int(viterbi_path[int(x_t), j])\n",
    "        x.append(x_prev)\n",
    "        x_t = x_prev\n",
    "        \n",
    "    # Reverse path to get the correct order\n",
    "    x.reverse()\n",
    "    \n",
    "    return x, np.max(viterbi_prob[:, T-1])\n",
    "\n",
    "# Example usage:\n",
    "S = ['s1', 's2']\n",
    "Pi = [0.35, 0.25]\n",
    "E = [[0.8, 0.1], [0.2, 0.5]]\n",
    "P = [[0.4, 0.2], [0.3, 0.6]]\n",
    "Y = [0, 0, 1]  # Observations: 0 corresponds to 'o1', 1 corresponds to 'o2'\n",
    "\n",
    "path, max_prob = viterbi_algorithm(S, Pi, E, P, Y)\n",
    "print(\"Most likely sequence of states:\", path)\n",
    "print(\"Maximum probability:\", max_prob)\n"
   ]
  },
  {
   "cell_type": "code",
   "execution_count": 7,
   "id": "20eccb3d",
   "metadata": {},
   "outputs": [
    {
     "name": "stdout",
     "output_type": "stream",
     "text": [
      "Probability of observation sequence Y: 0.0199\n"
     ]
    }
   ],
   "source": [
    "def forward_algorithm(S, Pi, E, P, Y):\n",
    "    K = len(S)\n",
    "    T = len(Y)\n",
    "    \n",
    "    forward_prob = np.zeros((K, T))\n",
    "    \n",
    "    # Part I: Initialization\n",
    "    for i in range(K):\n",
    "        forward_prob[i][0] = Pi[i] * E[i][Y[0]]\n",
    "    \n",
    "    # Part II: Recursion\n",
    "    for j in range(1, T):\n",
    "        for i in range(K):\n",
    "            forward_prob[i, j] = sum(forward_prob[k, j-1] * P[k][i] * E[i][Y[j]] for k in range(K))\n",
    "    \n",
    "    # Part III: Termination\n",
    "    total_prob = np.sum(forward_prob[:, T-1])\n",
    "    return total_prob\n",
    "\n",
    "# Example usage:\n",
    "S = ['s1', 's2']\n",
    "Pi = [0.35, 0.25]\n",
    "E = [[0.8, 0.1], [0.2, 0.5]]\n",
    "P = [[0.4, 0.2], [0.3, 0.6]]\n",
    "Y = [0, 0, 1]  # Observations: 0 corresponds to 'o1', 1 corresponds to 'o2'\n",
    "\n",
    "total_prob = forward_algorithm(S, Pi, E, P, Y)\n",
    "print(\"Probability of observation sequence Y:\", total_prob)\n"
   ]
  },
  {
   "cell_type": "code",
   "execution_count": 8,
   "id": "9483b7f2",
   "metadata": {},
   "outputs": [
    {
     "name": "stdout",
     "output_type": "stream",
     "text": [
      "Most likely weather sequence: ['rainy', 'rainy', 'sunny', 'cloudy', 'cloudy']\n",
      "Probability of the given sequence of activities: 0.0054941706\n"
     ]
    }
   ],
   "source": [
    "# Given data\n",
    "S = ['rainy', 'cloudy', 'sunny']\n",
    "Pi = [0.35, 0.25, 0.4]\n",
    "P = [\n",
    "    [0.4, 0.2, 0.4],\n",
    "    [0.2, 0.5, 0.3],\n",
    "    [0.3, 0.6, 0.1]\n",
    "]\n",
    "E = [\n",
    "    [0.8, 0.1, 0.1],\n",
    "    [0.2, 0.5, 0.3],\n",
    "    [0.4, 0.2, 0.4]\n",
    "]\n",
    "activities = ['read', 'read', 'shop', 'play', 'shop']\n",
    "observation_indices = [0, 0, 2, 1, 2]  # Convert activities to observation indices(read->0,play->1,shop->2)\n",
    "\n",
    "# (a) Find the most likely weather sequence\n",
    "most_likely_weather_sequence, _ = viterbi_algorithm(S, Pi, E, P, observation_indices)\n",
    "print(\"Most likely weather sequence:\", [S[state] for state in most_likely_weather_sequence])\n",
    "\n",
    "# (b) Calculate the probability of the given sequence of activities\n",
    "probability_activities = forward_algorithm(S, Pi, E, P, observation_indices)\n",
    "print(\"Probability of the given sequence of activities:\", probability_activities)\n"
   ]
  }
 ],
 "metadata": {
  "kernelspec": {
   "display_name": "Python 3 (ipykernel)",
   "language": "python",
   "name": "python3"
  },
  "language_info": {
   "codemirror_mode": {
    "name": "ipython",
    "version": 3
   },
   "file_extension": ".py",
   "mimetype": "text/x-python",
   "name": "python",
   "nbconvert_exporter": "python",
   "pygments_lexer": "ipython3",
   "version": "3.11.5"
  }
 },
 "nbformat": 4,
 "nbformat_minor": 5
}
